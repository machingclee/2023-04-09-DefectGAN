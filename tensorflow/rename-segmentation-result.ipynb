{
 "cells": [
  {
   "cell_type": "code",
   "execution_count": 2,
   "id": "4db54df0-c30e-4bb3-8139-7fce9aa0c63a",
   "metadata": {},
   "outputs": [],
   "source": [
    "import os, re\n"
   ]
  },
  {
   "cell_type": "code",
   "execution_count": null,
   "id": "81a37780-4655-4e3a-bc5e-fc6db8121e7e",
   "metadata": {},
   "outputs": [],
   "source": [
    "head_num_regex = re.compile(r\"^\\d+\")\n",
    "seg_dir = \"toy_subsets/water_seepage_segmentation\"\n",
    "for filename in os.listdir(seg_dir):\n",
    "  try:\n",
    "    src = filename\n",
    "    rename = re.sub(\"task-\", \"\", src)\n",
    "    rename = re.sub(\"-annotation.*\\.png\", \"\", rename)\n",
    "    rename = rename.zfill(5) + \".png\"\n",
    "    os.rename(os.path.join(seg_dir, src), os.path.join(seg_dir, rename))\n",
    "  except Exception as err:\n",
    "    os.unlink(os.path.join(seg_dir, src))\n",
    "    print(\"ignore err\")"
   ]
  },
  {
   "cell_type": "code",
   "execution_count": 16,
   "id": "2d2a30c8-c2da-4b05-b301-1e027389be83",
   "metadata": {},
   "outputs": [],
   "source": [
    "crack_dir = \"toy_subsets/water_seepage_restored\"\n",
    "for i, filename in enumerate(os.listdir(crack_dir)):\n",
    "  j = i+1\n",
    "  target_name = str(j).zfill(5) + \".png\"\n",
    "  os.rename(os.path.join(crack_dir, filename), os.path.join(crack_dir, target_name))"
   ]
  },
  {
   "cell_type": "code",
   "execution_count": null,
   "id": "1034119e-8fcb-43be-bc87-bd3b69494d48",
   "metadata": {},
   "outputs": [],
   "source": []
  }
 ],
 "metadata": {
  "kernelspec": {
   "display_name": "dl",
   "language": "python",
   "name": "dl"
  },
  "language_info": {
   "codemirror_mode": {
    "name": "ipython",
    "version": 3
   },
   "file_extension": ".py",
   "mimetype": "text/x-python",
   "name": "python",
   "nbconvert_exporter": "python",
   "pygments_lexer": "ipython3",
   "version": "3.8.12"
  }
 },
 "nbformat": 4,
 "nbformat_minor": 5
}
